{
  "nbformat": 4,
  "nbformat_minor": 0,
  "metadata": {
    "colab": {
      "name": "Titanic.ipynb",
      "provenance": [],
      "collapsed_sections": [],
      "authorship_tag": "ABX9TyOy9+utHuSfAST3HirBZlMF",
      "include_colab_link": true
    },
    "kernelspec": {
      "name": "python3",
      "display_name": "Python 3"
    },
    "language_info": {
      "name": "python"
    },
    "accelerator": "GPU"
  },
  "cells": [
    {
      "cell_type": "markdown",
      "metadata": {
        "id": "view-in-github",
        "colab_type": "text"
      },
      "source": [
        "<a href=\"https://colab.research.google.com/github/ranggasiphhi/SGD/blob/master/Titanic.ipynb\" target=\"_parent\"><img src=\"https://colab.research.google.com/assets/colab-badge.svg\" alt=\"Open In Colab\"/></a>"
      ]
    },
    {
      "cell_type": "markdown",
      "metadata": {
        "id": "FQ71tUD5t8XS"
      },
      "source": [
        "# Introduction\n",
        "This is an example simple logistic regression for predicting passenger whether survived or not while abroading the Titanic.  It consists of 10 attributes and describes below:\n",
        "\n",
        "\n",
        "1.   Survival (0 = No, 1 = Yes)\n",
        "2.   PClass/Ticket Class (1,2,3)\n",
        "3.   Sex\n",
        "4.   Age\n",
        "5.   Sibsp (Number of siblings or spouses abroad the Titanic)\n",
        "6.   Parch (Number of parents or children abroad the Titanic)\n",
        "7.   Ticket Number\n",
        "8.   Passenger Fare\n",
        "9.   Cabin Number\n",
        "10.  Port of Embarktion\n",
        "\n",
        "\n",
        "\n",
        "\n"
      ]
    },
    {
      "cell_type": "code",
      "metadata": {
        "colab": {
          "resources": {
            "http://localhost:8080/nbextensions/google.colab/files.js": {
              "data": "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",
              "ok": true,
              "headers": [
                [
                  "content-type",
                  "application/javascript"
                ]
              ],
              "status": 200,
              "status_text": ""
            }
          },
          "base_uri": "https://localhost:8080/",
          "height": 474
        },
        "id": "W_NmiQ5KqrV1",
        "outputId": "31810a28-7731-4f8a-96b0-61d014920ddd"
      },
      "source": [
        "import numpy as np\n",
        "import pandas as pd\n",
        "import io\n",
        "\n",
        "from google.colab import files\n",
        "\n",
        "uploaded = files.upload()\n",
        "\n",
        "for fn in uploaded.keys():\n",
        "  print('User uploaded file \"{name}\" with length {length} bytes'.format(\n",
        "      name=fn, length=len(uploaded[fn])))\n",
        "\n",
        "df = pd.read_csv(io.BytesIO(uploaded['train.csv']))\n",
        "df"
      ],
      "execution_count": 378,
      "outputs": [
        {
          "output_type": "display_data",
          "data": {
            "text/html": [
              "\n",
              "     <input type=\"file\" id=\"files-f9b2b4ba-7c30-421c-8874-9f0fc37b9f9e\" name=\"files[]\" multiple disabled\n",
              "        style=\"border:none\" />\n",
              "     <output id=\"result-f9b2b4ba-7c30-421c-8874-9f0fc37b9f9e\">\n",
              "      Upload widget is only available when the cell has been executed in the\n",
              "      current browser session. Please rerun this cell to enable.\n",
              "      </output>\n",
              "      <script src=\"/nbextensions/google.colab/files.js\"></script> "
            ],
            "text/plain": [
              "<IPython.core.display.HTML object>"
            ]
          },
          "metadata": {}
        },
        {
          "output_type": "stream",
          "name": "stdout",
          "text": [
            "Saving train.csv to train (23).csv\n",
            "User uploaded file \"train.csv\" with length 61194 bytes\n"
          ]
        },
        {
          "output_type": "execute_result",
          "data": {
            "text/html": [
              "<div>\n",
              "<style scoped>\n",
              "    .dataframe tbody tr th:only-of-type {\n",
              "        vertical-align: middle;\n",
              "    }\n",
              "\n",
              "    .dataframe tbody tr th {\n",
              "        vertical-align: top;\n",
              "    }\n",
              "\n",
              "    .dataframe thead th {\n",
              "        text-align: right;\n",
              "    }\n",
              "</style>\n",
              "<table border=\"1\" class=\"dataframe\">\n",
              "  <thead>\n",
              "    <tr style=\"text-align: right;\">\n",
              "      <th></th>\n",
              "      <th>PassengerId</th>\n",
              "      <th>Survived</th>\n",
              "      <th>Pclass</th>\n",
              "      <th>Name</th>\n",
              "      <th>Sex</th>\n",
              "      <th>Age</th>\n",
              "      <th>SibSp</th>\n",
              "      <th>Parch</th>\n",
              "      <th>Ticket</th>\n",
              "      <th>Fare</th>\n",
              "      <th>Cabin</th>\n",
              "      <th>Embarked</th>\n",
              "    </tr>\n",
              "  </thead>\n",
              "  <tbody>\n",
              "    <tr>\n",
              "      <th>0</th>\n",
              "      <td>1</td>\n",
              "      <td>0</td>\n",
              "      <td>3</td>\n",
              "      <td>Braund, Mr. Owen Harris</td>\n",
              "      <td>male</td>\n",
              "      <td>22.0</td>\n",
              "      <td>1</td>\n",
              "      <td>0</td>\n",
              "      <td>A/5 21171</td>\n",
              "      <td>7.2500</td>\n",
              "      <td>NaN</td>\n",
              "      <td>S</td>\n",
              "    </tr>\n",
              "    <tr>\n",
              "      <th>1</th>\n",
              "      <td>2</td>\n",
              "      <td>1</td>\n",
              "      <td>1</td>\n",
              "      <td>Cumings, Mrs. John Bradley (Florence Briggs Th...</td>\n",
              "      <td>female</td>\n",
              "      <td>38.0</td>\n",
              "      <td>1</td>\n",
              "      <td>0</td>\n",
              "      <td>PC 17599</td>\n",
              "      <td>71.2833</td>\n",
              "      <td>C85</td>\n",
              "      <td>C</td>\n",
              "    </tr>\n",
              "    <tr>\n",
              "      <th>2</th>\n",
              "      <td>3</td>\n",
              "      <td>1</td>\n",
              "      <td>3</td>\n",
              "      <td>Heikkinen, Miss. Laina</td>\n",
              "      <td>female</td>\n",
              "      <td>26.0</td>\n",
              "      <td>0</td>\n",
              "      <td>0</td>\n",
              "      <td>STON/O2. 3101282</td>\n",
              "      <td>7.9250</td>\n",
              "      <td>NaN</td>\n",
              "      <td>S</td>\n",
              "    </tr>\n",
              "    <tr>\n",
              "      <th>3</th>\n",
              "      <td>4</td>\n",
              "      <td>1</td>\n",
              "      <td>1</td>\n",
              "      <td>Futrelle, Mrs. Jacques Heath (Lily May Peel)</td>\n",
              "      <td>female</td>\n",
              "      <td>35.0</td>\n",
              "      <td>1</td>\n",
              "      <td>0</td>\n",
              "      <td>113803</td>\n",
              "      <td>53.1000</td>\n",
              "      <td>C123</td>\n",
              "      <td>S</td>\n",
              "    </tr>\n",
              "    <tr>\n",
              "      <th>4</th>\n",
              "      <td>5</td>\n",
              "      <td>0</td>\n",
              "      <td>3</td>\n",
              "      <td>Allen, Mr. William Henry</td>\n",
              "      <td>male</td>\n",
              "      <td>35.0</td>\n",
              "      <td>0</td>\n",
              "      <td>0</td>\n",
              "      <td>373450</td>\n",
              "      <td>8.0500</td>\n",
              "      <td>NaN</td>\n",
              "      <td>S</td>\n",
              "    </tr>\n",
              "    <tr>\n",
              "      <th>...</th>\n",
              "      <td>...</td>\n",
              "      <td>...</td>\n",
              "      <td>...</td>\n",
              "      <td>...</td>\n",
              "      <td>...</td>\n",
              "      <td>...</td>\n",
              "      <td>...</td>\n",
              "      <td>...</td>\n",
              "      <td>...</td>\n",
              "      <td>...</td>\n",
              "      <td>...</td>\n",
              "      <td>...</td>\n",
              "    </tr>\n",
              "    <tr>\n",
              "      <th>886</th>\n",
              "      <td>887</td>\n",
              "      <td>0</td>\n",
              "      <td>2</td>\n",
              "      <td>Montvila, Rev. Juozas</td>\n",
              "      <td>male</td>\n",
              "      <td>27.0</td>\n",
              "      <td>0</td>\n",
              "      <td>0</td>\n",
              "      <td>211536</td>\n",
              "      <td>13.0000</td>\n",
              "      <td>NaN</td>\n",
              "      <td>S</td>\n",
              "    </tr>\n",
              "    <tr>\n",
              "      <th>887</th>\n",
              "      <td>888</td>\n",
              "      <td>1</td>\n",
              "      <td>1</td>\n",
              "      <td>Graham, Miss. Margaret Edith</td>\n",
              "      <td>female</td>\n",
              "      <td>19.0</td>\n",
              "      <td>0</td>\n",
              "      <td>0</td>\n",
              "      <td>112053</td>\n",
              "      <td>30.0000</td>\n",
              "      <td>B42</td>\n",
              "      <td>S</td>\n",
              "    </tr>\n",
              "    <tr>\n",
              "      <th>888</th>\n",
              "      <td>889</td>\n",
              "      <td>0</td>\n",
              "      <td>3</td>\n",
              "      <td>Johnston, Miss. Catherine Helen \"Carrie\"</td>\n",
              "      <td>female</td>\n",
              "      <td>NaN</td>\n",
              "      <td>1</td>\n",
              "      <td>2</td>\n",
              "      <td>W./C. 6607</td>\n",
              "      <td>23.4500</td>\n",
              "      <td>NaN</td>\n",
              "      <td>S</td>\n",
              "    </tr>\n",
              "    <tr>\n",
              "      <th>889</th>\n",
              "      <td>890</td>\n",
              "      <td>1</td>\n",
              "      <td>1</td>\n",
              "      <td>Behr, Mr. Karl Howell</td>\n",
              "      <td>male</td>\n",
              "      <td>26.0</td>\n",
              "      <td>0</td>\n",
              "      <td>0</td>\n",
              "      <td>111369</td>\n",
              "      <td>30.0000</td>\n",
              "      <td>C148</td>\n",
              "      <td>C</td>\n",
              "    </tr>\n",
              "    <tr>\n",
              "      <th>890</th>\n",
              "      <td>891</td>\n",
              "      <td>0</td>\n",
              "      <td>3</td>\n",
              "      <td>Dooley, Mr. Patrick</td>\n",
              "      <td>male</td>\n",
              "      <td>32.0</td>\n",
              "      <td>0</td>\n",
              "      <td>0</td>\n",
              "      <td>370376</td>\n",
              "      <td>7.7500</td>\n",
              "      <td>NaN</td>\n",
              "      <td>Q</td>\n",
              "    </tr>\n",
              "  </tbody>\n",
              "</table>\n",
              "<p>891 rows × 12 columns</p>\n",
              "</div>"
            ],
            "text/plain": [
              "     PassengerId  Survived  Pclass  ...     Fare Cabin  Embarked\n",
              "0              1         0       3  ...   7.2500   NaN         S\n",
              "1              2         1       1  ...  71.2833   C85         C\n",
              "2              3         1       3  ...   7.9250   NaN         S\n",
              "3              4         1       1  ...  53.1000  C123         S\n",
              "4              5         0       3  ...   8.0500   NaN         S\n",
              "..           ...       ...     ...  ...      ...   ...       ...\n",
              "886          887         0       2  ...  13.0000   NaN         S\n",
              "887          888         1       1  ...  30.0000   B42         S\n",
              "888          889         0       3  ...  23.4500   NaN         S\n",
              "889          890         1       1  ...  30.0000  C148         C\n",
              "890          891         0       3  ...   7.7500   NaN         Q\n",
              "\n",
              "[891 rows x 12 columns]"
            ]
          },
          "metadata": {},
          "execution_count": 378
        }
      ]
    },
    {
      "cell_type": "markdown",
      "metadata": {
        "id": "ORrHHjOfdB9Q"
      },
      "source": [
        "# Data Cleansing and Matrix Created\n",
        "In this section we choose the attribute that depends on the survival of Titanic.  We choose PClass, Sex, Sibsp, and Parch to train our data.  We also remove the NaN data in order to keep data clean.\n",
        "The output in this process is a matrix X within 4 attributes and powered by 12, and also matrix Y is contained the survival column"
      ]
    },
    {
      "cell_type": "markdown",
      "metadata": {
        "id": "9M7anijOiCcf"
      },
      "source": [
        "Check the data if any Nan"
      ]
    },
    {
      "cell_type": "code",
      "metadata": {
        "id": "NVymgmorttqP",
        "colab": {
          "base_uri": "https://localhost:8080/"
        },
        "outputId": "6f014986-8bea-436a-c2d7-cda9266223f2"
      },
      "source": [
        "pclass = df['Pclass'].isnull().values.any()\n",
        "print(\"Pclass is Nan = \", pclass)\n",
        "sex = df['Sex'].isnull().values.any()\n",
        "print(\"Sex is Nan = \", sex)\n",
        "sibsp = df['SibSp'].isnull().values.any()\n",
        "print(\"SibSp is Nan = \", sibsp)\n",
        "parch = df['Parch'].isnull().values.any()\n",
        "print(\"Parch is Nan = \", parch)"
      ],
      "execution_count": 379,
      "outputs": [
        {
          "output_type": "stream",
          "name": "stdout",
          "text": [
            "Pclass is Nan =  False\n",
            "Sex is Nan =  False\n",
            "SibSp is Nan =  False\n",
            "Parch is Nan =  False\n"
          ]
        }
      ]
    },
    {
      "cell_type": "markdown",
      "metadata": {
        "id": "Q-ycZIVril_X"
      },
      "source": [
        "Create matrix X and Y"
      ]
    },
    {
      "cell_type": "code",
      "metadata": {
        "id": "U4I5rPtdjN8_"
      },
      "source": [
        "pclass = df['Pclass'].values\n",
        "pclass = np.transpose([pclass])\n",
        "\n",
        "sex = df['Sex'].values\n",
        "sex = np.transpose([np.where(sex == 'male', 0, 1)])\n",
        "\n",
        "sibsp = df['SibSp'].values\n",
        "sibsp = np.transpose([sibsp])\n",
        "\n",
        "parch = df['Parch'].values\n",
        "parch = np.transpose([parch])\n",
        "\n",
        "X = np.hstack((pclass, sex))\n",
        "X = np.hstack((X, sibsp))\n",
        "X = np.hstack((X, parch))\n",
        "\n",
        "y = np.transpose([df['Survived'].values])"
      ],
      "execution_count": 380,
      "outputs": []
    },
    {
      "cell_type": "markdown",
      "metadata": {
        "id": "BYVn0SQpe4Bg"
      },
      "source": [
        "Create Matrix X with powered by 8 (e.g. x1^8, x1^7x2x3x4, x1^6x2^2x3x4,...)\n",
        "Matrix X size will be 891 x 495"
      ]
    },
    {
      "cell_type": "code",
      "metadata": {
        "colab": {
          "base_uri": "https://localhost:8080/"
        },
        "id": "G_nxBPzmfVNP",
        "outputId": "783d15d4-23c6-4cd6-c74c-6277dead760b"
      },
      "source": [
        "def mapFeature(X, degree):\n",
        "  finalX = np.ones((X.shape[0],1),dtype='int')\n",
        "\n",
        "  for i in range(degree+1):\n",
        "    for j in range(degree+1):\n",
        "      for k in range(degree+1):\n",
        "        for l in range(degree+1):\n",
        "          if(i+j+k+l != 0 and i+j+k+l <= degree):\n",
        "            temp = np.transpose([np.power(X[:,0],i)*np.power(X[:,1],j)*np.power(X[:,2],k)*np.power(X[:,3],l)])\n",
        "            finalX = np.hstack((finalX, temp))\n",
        "  \n",
        "  return finalX\n",
        "\n",
        "X = mapFeature(X, 8)\n",
        "X.shape"
      ],
      "execution_count": 381,
      "outputs": [
        {
          "output_type": "execute_result",
          "data": {
            "text/plain": [
              "(891, 495)"
            ]
          },
          "metadata": {},
          "execution_count": 381
        }
      ]
    },
    {
      "cell_type": "markdown",
      "metadata": {
        "id": "x2zHcOM9nsWT"
      },
      "source": [
        "# Machine Learning Algorithm\n",
        "In this section will be build a machine learning algorithm using logistic regression and with minimum function that build-in Scikit"
      ]
    },
    {
      "cell_type": "markdown",
      "metadata": {
        "id": "Yg2zj80RnY4M"
      },
      "source": [
        "Create Sigmoid function"
      ]
    },
    {
      "cell_type": "code",
      "metadata": {
        "id": "MQAvKNo8gdhr"
      },
      "source": [
        "def sigmoid(z):\n",
        "  g = np.zeros(z.size)\n",
        "  g = 1 / (1 + np.exp(-z))\n",
        "  return g"
      ],
      "execution_count": 382,
      "outputs": []
    },
    {
      "cell_type": "markdown",
      "metadata": {
        "id": "PyuLtQr-qPnR"
      },
      "source": [
        "Create Cost and Gradient Function "
      ]
    },
    {
      "cell_type": "code",
      "metadata": {
        "id": "3QAkAlFVqjfd"
      },
      "source": [
        "def costFunc(theta, X, y, lamda):\n",
        "  theta = np.transpose(np.array([theta]))\n",
        "\n",
        "  m = len(y)\n",
        "\n",
        "  J = 0\n",
        "\n",
        "  hx = sigmoid(X @ theta)\n",
        "  J = 1/m * (-np.transpose(y) @ np.log(hx) - np.transpose(1-y) @ np.log(1-hx)) + lamda/(2 * m) * np.transpose(theta[1:]) @ theta[1:]\n",
        "  return J[0,0]"
      ],
      "execution_count": 383,
      "outputs": []
    },
    {
      "cell_type": "code",
      "metadata": {
        "id": "n9gUjhZj44iw"
      },
      "source": [
        "def gradient(theta, X, y, lamda):\n",
        "  theta = np.transpose(np.array([theta]))\n",
        "\n",
        "  m = len(y)\n",
        "  \n",
        "  grad = np.zeros(theta.size)\n",
        "\n",
        "  hx = sigmoid(X @ theta)\n",
        "  grad = 1/m * np.transpose(X) @ (hx-y) + np.vstack(([0], lamda / m * theta[1:]))\n",
        "  return np.transpose(grad).flatten()"
      ],
      "execution_count": 384,
      "outputs": []
    },
    {
      "cell_type": "markdown",
      "metadata": {
        "id": "Q7VBLuOYyKYP"
      },
      "source": [
        "Initialize theta, set lambda, and compute cost and gradient descend"
      ]
    },
    {
      "cell_type": "code",
      "metadata": {
        "colab": {
          "base_uri": "https://localhost:8080/"
        },
        "id": "6CKXZgGzyaqz",
        "outputId": "8dc24462-f6a0-4f94-a181-4130fd9a346b"
      },
      "source": [
        "import scipy.optimize as op\n",
        "\n",
        "initial_theta = np.zeros((X.shape[1],))\n",
        "lamda = 200\n",
        "\n",
        "cost = costFunc(initial_theta, X, y, lamda)\n",
        "print(cost)\n",
        "grad = gradient(initial_theta, X, y, lamda)\n",
        "print(grad[0:5])"
      ],
      "execution_count": 385,
      "outputs": [
        {
          "output_type": "stream",
          "name": "stdout",
          "text": [
            "0.693147180559945\n",
            "[0.11616162 0.01234568 0.08641975 0.45342312 2.30190797]\n"
          ]
        }
      ]
    },
    {
      "cell_type": "code",
      "metadata": {
        "colab": {
          "base_uri": "https://localhost:8080/"
        },
        "id": "5A7winBU1Efu",
        "outputId": "0774ce7f-7e0f-489e-dba5-a91b00cf2c55"
      },
      "source": [
        "Result = op.minimize(fun = costFunc, \n",
        "                                 x0 = initial_theta, \n",
        "                                 args = (X, y, lamda),\n",
        "                                 method = 'SLSQP',\n",
        "                                 jac = gradient);"
      ],
      "execution_count": 386,
      "outputs": [
        {
          "output_type": "stream",
          "name": "stderr",
          "text": [
            "/usr/local/lib/python3.7/dist-packages/ipykernel_launcher.py:3: RuntimeWarning: overflow encountered in exp\n",
            "  This is separate from the ipykernel package so we can avoid doing imports until\n",
            "/usr/local/lib/python3.7/dist-packages/ipykernel_launcher.py:9: RuntimeWarning: divide by zero encountered in log\n",
            "  if __name__ == '__main__':\n",
            "/usr/local/lib/python3.7/dist-packages/ipykernel_launcher.py:9: RuntimeWarning: invalid value encountered in matmul\n",
            "  if __name__ == '__main__':\n"
          ]
        }
      ]
    },
    {
      "cell_type": "code",
      "metadata": {
        "colab": {
          "base_uri": "https://localhost:8080/"
        },
        "id": "6CYE9jfe0xXr",
        "outputId": "7375089d-5f94-4b84-da5d-6154d55315e2"
      },
      "source": [
        "print(Result)\n",
        "print(len(Result.x))"
      ],
      "execution_count": 387,
      "outputs": [
        {
          "output_type": "stream",
          "name": "stdout",
          "text": [
            "     fun: 0.4228629946503062\n",
            "     jac: array([-4.69053940e-04,  1.54506765e-04,  1.26345671e-04, -5.95487830e-04,\n",
            "       -5.50541196e-03, -3.25825512e-02, -1.70425569e-01, -8.44767148e-01,\n",
            "       -4.06443110e+00,  8.61197651e-05,  2.22304062e-04,  3.06541631e-04,\n",
            "       -6.12555444e-05, -3.85754139e-03, -2.76427671e-02, -1.57433559e-01,\n",
            "       -8.23753901e-01,  3.44597250e-04,  7.15142867e-04,  1.18907522e-03,\n",
            "        1.64147645e-03, -3.91986042e-04, -2.02842855e-02, -1.41187386e-01,\n",
            "        1.31968508e-03,  2.54563873e-03,  4.51248990e-03,  8.03234646e-03,\n",
            "        1.23786477e-02,  5.98043481e-03,  4.93708506e-03,  9.32850981e-03,\n",
            "        1.70109840e-02,  3.21253220e-02,  6.01502923e-02,  1.83124133e-02,\n",
            "        3.45446930e-02,  6.41396648e-02,  1.23405469e-01,  6.79418842e-02,\n",
            "        1.28871211e-01,  2.42706130e-01,  2.53687604e-01,  4.85020848e-01,\n",
            "        9.60246783e-01,  1.84282196e-04,  3.03509415e-05, -1.76637472e-04,\n",
            "       -1.34444096e-03, -7.36642731e-03, -3.71083885e-02, -1.80522596e-01,\n",
            "       -8.61399654e-01,  1.10018139e-04,  4.23061963e-05, -9.59660696e-05,\n",
            "       -9.97098261e-04, -6.08017638e-03, -3.28796842e-02, -1.68940586e-01,\n",
            "        1.99363619e-04,  2.26374602e-04,  2.43736766e-04, -3.05317721e-04,\n",
            "       -4.56181391e-03, -2.93408782e-02,  5.82152081e-04,  9.90513621e-04,\n",
            "        1.64311251e-03,  2.44614916e-03,  1.13868830e-03,  2.07148959e-03,\n",
            "        3.92973445e-03,  7.04764654e-03,  1.29445450e-02,  7.61564491e-03,\n",
            "        1.48294015e-02,  2.72508563e-02,  2.81648460e-02,  5.52213110e-02,\n",
            "        1.09210193e-01,  1.84282196e-04,  3.03509415e-05, -1.76637472e-04,\n",
            "       -1.34444096e-03, -7.36642731e-03, -3.71083885e-02, -1.80522596e-01,\n",
            "        1.10018139e-04,  4.23061963e-05, -9.59660696e-05, -9.97098261e-04,\n",
            "       -6.08017638e-03, -3.28796842e-02,  1.99363619e-04,  2.26374602e-04,\n",
            "        2.43736766e-04, -3.05317721e-04, -4.56181391e-03,  5.82152081e-04,\n",
            "        9.90513621e-04,  1.64311251e-03,  2.44614916e-03,  2.07148959e-03,\n",
            "        3.92973445e-03,  7.04764654e-03,  7.61564491e-03,  1.48294015e-02,\n",
            "        2.81648460e-02,  1.84282196e-04,  3.03509415e-05, -1.76637472e-04,\n",
            "       -1.34444096e-03, -7.36642731e-03, -3.71083885e-02,  1.10018139e-04,\n",
            "        4.23061963e-05, -9.59660696e-05, -9.97098261e-04, -6.08017638e-03,\n",
            "        1.99363619e-04,  2.26374602e-04,  2.43736766e-04, -3.05317721e-04,\n",
            "        5.82152081e-04,  9.90513621e-04,  1.64311251e-03,  2.07148959e-03,\n",
            "        3.92973445e-03,  7.61564491e-03,  1.84282196e-04,  3.03509415e-05,\n",
            "       -1.76637472e-04, -1.34444096e-03, -7.36642731e-03,  1.10018139e-04,\n",
            "        4.23061963e-05, -9.59660696e-05, -9.97098261e-04,  1.99363619e-04,\n",
            "        2.26374602e-04,  2.43736766e-04,  5.82152081e-04,  9.90513621e-04,\n",
            "        2.07148959e-03,  1.84282196e-04,  3.03509415e-05, -1.76637472e-04,\n",
            "       -1.34444096e-03,  1.10018139e-04,  4.23061963e-05, -9.59660696e-05,\n",
            "        1.99363619e-04,  2.26374602e-04,  5.82152081e-04,  1.84282196e-04,\n",
            "        3.03509415e-05, -1.76637472e-04,  1.10018139e-04,  4.23061963e-05,\n",
            "        1.99363619e-04,  1.84282196e-04,  3.03509415e-05,  1.10018139e-04,\n",
            "        1.84282196e-04,  3.35053084e-04,  2.20365453e-04, -2.13588793e-05,\n",
            "       -2.50685652e-03, -1.78068808e-02, -9.96244245e-02, -5.11281996e-01,\n",
            "       -2.51591017e+00,  3.68209853e-04,  5.80118316e-04,  7.44692670e-04,\n",
            "       -5.60895017e-04, -1.23456157e-02, -8.41222814e-02, -4.71843820e-01,\n",
            "        1.17851351e-03,  2.03606589e-03,  3.32002028e-03,  4.33481035e-03,\n",
            "       -2.56430175e-03, -6.38351911e-02,  4.18334516e-03,  7.45031097e-03,\n",
            "        1.30815083e-02,  2.29540197e-02,  3.42600564e-02,  1.52241587e-02,\n",
            "        2.75481246e-02,  4.99668496e-02,  9.37408869e-02,  5.58158026e-02,\n",
            "        1.02406131e-01,  1.89554722e-01,  2.05900829e-01,  3.82937768e-01,\n",
            "        7.66327103e-01,  1.13381285e-04, -1.56001178e-04, -9.40504549e-04,\n",
            "       -4.86279388e-03, -2.40419185e-02, -1.16320357e-01, -5.55146757e-01,\n",
            "        1.24053731e-04, -1.34686985e-05, -5.43943621e-04, -3.59086347e-03,\n",
            "       -1.98637655e-02, -1.03319487e-01,  4.36100402e-04,  5.63211009e-04,\n",
            "        4.82409555e-04, -1.58354567e-03, -1.56496654e-02,  1.69854926e-03,\n",
            "        2.90494669e-03,  4.69576540e-03,  6.53628588e-03,  6.47291780e-03,\n",
            "        1.18223553e-02,  2.09420426e-02,  2.39526628e-02,  4.47241756e-02,\n",
            "        8.79985256e-02,  1.13381285e-04, -1.56001178e-04, -9.40504549e-04,\n",
            "       -4.86279388e-03, -2.40419185e-02, -1.16320357e-01,  1.24053731e-04,\n",
            "       -1.34686985e-05, -5.43943621e-04, -3.59086347e-03, -1.98637655e-02,\n",
            "        4.36100402e-04,  5.63211009e-04,  4.82409555e-04, -1.58354567e-03,\n",
            "        1.69854926e-03,  2.90494669e-03,  4.69576540e-03,  6.47291780e-03,\n",
            "        1.18223553e-02,  2.39526628e-02,  1.13381285e-04, -1.56001178e-04,\n",
            "       -9.40504549e-04, -4.86279388e-03, -2.40419185e-02,  1.24053731e-04,\n",
            "       -1.34686985e-05, -5.43943621e-04, -3.59086347e-03,  4.36100402e-04,\n",
            "        5.63211009e-04,  4.82409555e-04,  1.69854926e-03,  2.90494669e-03,\n",
            "        6.47291780e-03,  1.13381285e-04, -1.56001178e-04, -9.40504549e-04,\n",
            "       -4.86279388e-03,  1.24053731e-04, -1.34686985e-05, -5.43943621e-04,\n",
            "        4.36100402e-04,  5.63211009e-04,  1.69854926e-03,  1.13381285e-04,\n",
            "       -1.56001178e-04, -9.40504549e-04,  1.24053731e-04, -1.34686985e-05,\n",
            "        4.36100402e-04,  1.13381285e-04, -1.56001178e-04,  1.24053731e-04,\n",
            "        1.13381285e-04,  1.24656400e-03,  3.53759452e-04, -6.63565928e-04,\n",
            "       -8.80168127e-03, -5.62706642e-02, -3.05132962e-01, -1.54635994e+00,\n",
            "        1.21300822e-03,  1.60684239e-03,  1.88270580e-03, -2.60790306e-03,\n",
            "       -3.94378486e-02, -2.58358538e-01,  3.70651169e-03,  5.93844292e-03,\n",
            "        9.48193328e-03,  1.16898137e-02, -1.12534472e-02,  1.28818956e-02,\n",
            "        2.20765889e-02,  3.84486770e-02,  6.66402237e-02,  4.64332262e-02,\n",
            "        8.20645368e-02,  1.48276631e-01,  1.69387273e-01,  3.05738627e-01,\n",
            "        6.22964590e-01, -6.70507609e-05, -7.54380889e-04, -3.37248219e-03,\n",
            "       -1.58521378e-02, -7.53659023e-02, -3.57806445e-01,  2.22617615e-04,\n",
            "       -2.27488161e-04, -2.05359765e-03, -1.18881407e-02, -6.27676558e-02,\n",
            "        1.24314447e-03,  1.52792092e-03,  9.92793170e-04, -6.09655102e-03,\n",
            "        5.25120594e-03,  8.60423752e-03,  1.35682626e-02,  2.01715649e-02,\n",
            "        3.54597915e-02,  7.42727776e-02, -6.70507609e-05, -7.54380889e-04,\n",
            "       -3.37248219e-03, -1.58521378e-02, -7.53659023e-02,  2.22617615e-04,\n",
            "       -2.27488161e-04, -2.05359765e-03, -1.18881407e-02,  1.24314447e-03,\n",
            "        1.52792092e-03,  9.92793170e-04,  5.25120594e-03,  8.60423752e-03,\n",
            "        2.01715649e-02, -6.70507609e-05, -7.54380889e-04, -3.37248219e-03,\n",
            "       -1.58521378e-02,  2.22617615e-04, -2.27488161e-04, -2.05359765e-03,\n",
            "        1.24314447e-03,  1.52792092e-03,  5.25120594e-03, -6.70507609e-05,\n",
            "       -7.54380889e-04, -3.37248219e-03,  2.22617615e-04, -2.27488161e-04,\n",
            "        1.24314447e-03, -6.70507609e-05, -7.54380889e-04,  2.22617615e-04,\n",
            "       -6.70507609e-05,  3.86987856e-03,  6.25577327e-04, -2.98837387e-03,\n",
            "       -2.88075929e-02, -1.74780768e-01, -9.30424408e-01,  3.74445952e-03,\n",
            "        4.59357726e-03,  4.94386522e-03, -9.84510641e-03, -1.23970567e-01,\n",
            "        1.13430050e-02,  1.75247899e-02,  2.75058279e-02,  3.23048270e-02,\n",
            "        3.91926874e-02,  6.57799451e-02,  1.13870410e-01,  1.40756121e-01,\n",
            "        2.45328909e-01,  5.12224289e-01, -5.43805529e-04, -2.62816673e-03,\n",
            "       -1.09491679e-02, -4.96887397e-02, -2.31932875e-01,  6.31223488e-04,\n",
            "       -9.62936103e-04, -6.91400249e-03, -3.78119355e-02,  3.85794411e-03,\n",
            "        4.33045205e-03,  2.11267452e-03,  1.63161062e-02,  2.56140933e-02,\n",
            "        6.22562313e-02, -5.43805529e-04, -2.62816673e-03, -1.09491679e-02,\n",
            "       -4.96887397e-02,  6.31223488e-04, -9.62936103e-04, -6.91400249e-03,\n",
            "        3.85794411e-03,  4.33045205e-03,  1.63161062e-02, -5.43805529e-04,\n",
            "       -2.62816673e-03, -1.09491679e-02,  6.31223488e-04, -9.62936103e-04,\n",
            "        3.85794411e-03, -5.43805529e-04, -2.62816673e-03,  6.31223488e-04,\n",
            "       -5.43805529e-04,  1.15173858e-02,  1.18430270e-03, -1.07591713e-02,\n",
            "       -9.10682023e-02, -5.36548589e-01,  1.13329258e-02,  1.33669071e-02,\n",
            "        1.34215835e-02, -3.37490750e-02,  3.43574827e-02,  5.20422627e-02,\n",
            "        8.06538229e-02,  1.18555344e-01,  1.96539059e-01,  4.25116192e-01,\n",
            "       -1.84498709e-03, -8.40681765e-03, -3.42407308e-02, -1.52935686e-01,\n",
            "        2.08286955e-03, -3.35605904e-03, -2.21581025e-02,  1.20896779e-02,\n",
            "        1.25548482e-02,  5.03246676e-02, -1.84498709e-03, -8.40681765e-03,\n",
            "       -3.42407308e-02,  2.08286955e-03, -3.35605904e-03,  1.20896779e-02,\n",
            "       -1.84498709e-03, -8.40681765e-03,  2.08286955e-03, -1.84498709e-03,\n",
            "        3.40150350e-02,  2.34702234e-03, -3.56643107e-02, -2.82335780e-01,\n",
            "        3.40865496e-02,  3.93131473e-02,  3.74432186e-02,  1.03610911e-01,\n",
            "        1.55111545e-01,  3.57503874e-01, -5.49036630e-03, -2.60573572e-02,\n",
            "       -1.05238431e-01,  6.88946460e-03, -1.09089861e-02,  3.75595491e-02,\n",
            "       -5.49036630e-03, -2.60573572e-02,  6.88946460e-03, -5.49036630e-03,\n",
            "        1.00618237e-01,  4.80826824e-03, -1.13565223e-01,  1.02323871e-01,\n",
            "        1.16404369e-01,  3.11791186e-01, -1.59101730e-02, -7.96381496e-02,\n",
            "        2.22125635e-02, -1.59101730e-02,  2.98648351e-01,  1.01381800e-02,\n",
            "        3.06988733e-01, -4.61369311e-02,  8.89179713e-01])\n",
            " message: 'Optimization terminated successfully.'\n",
            "    nfev: 277\n",
            "     nit: 80\n",
            "    njev: 80\n",
            "  status: 0\n",
            " success: True\n",
            "       x: array([-1.66296234e-01,  6.30422934e-04, -4.49691658e-05, -5.19934582e-04,\n",
            "        1.83119079e-04,  3.40922082e-03,  6.92345944e-03, -5.48483239e-03,\n",
            "       -3.18176818e-03,  1.61216880e-02,  3.88005823e-03,  2.12927623e-03,\n",
            "       -2.04164472e-04, -2.01895947e-03,  6.19926213e-05,  9.15298498e-03,\n",
            "       -8.60678892e-03,  1.59555902e-02,  4.31161967e-03,  2.39310406e-03,\n",
            "       -7.87106739e-05, -1.57897414e-03,  2.90487975e-03,  2.21231920e-02,\n",
            "        1.53910107e-02,  4.69279290e-03,  2.48477663e-03, -1.71853026e-04,\n",
            "       -8.59187179e-04,  8.79820287e-03,  1.37373323e-02,  4.36263580e-03,\n",
            "        2.07494338e-03,  4.73342053e-05,  2.98315935e-03,  9.39965633e-03,\n",
            "        1.54360809e-03,  1.74565641e-03,  6.27427428e-03, -6.46132243e-04,\n",
            "       -7.00026421e-03,  9.82814990e-03, -1.79568710e-02, -1.85040369e-02,\n",
            "        1.56089016e-03,  5.85908314e-02,  7.46457881e-03,  6.09412420e-03,\n",
            "        3.92003568e-03,  6.09727789e-04, -4.54816841e-03, -1.17186863e-02,\n",
            "        7.38737572e-03,  1.60673588e-02, -1.70369482e-03, -4.26571131e-03,\n",
            "       -8.53061908e-03, -1.48234636e-02, -2.20558853e-02, -2.55084012e-02,\n",
            "        1.60762352e-02, -1.55605319e-03, -3.78920293e-03, -7.19928400e-03,\n",
            "       -1.11911955e-02, -1.20479125e-02,  1.59667424e-02, -1.40334974e-03,\n",
            "       -2.46433668e-03, -3.13590577e-03, -4.68234135e-04,  1.53962733e-02,\n",
            "       -1.46517645e-03,  1.42195601e-03,  9.43499851e-03,  1.30915610e-02,\n",
            "       -2.90917714e-03,  1.24669290e-02,  5.38941638e-03, -8.96101705e-03,\n",
            "        2.38140546e-03,  5.85908314e-02,  7.46457881e-03,  6.09412420e-03,\n",
            "        3.92003568e-03,  6.09727789e-04, -4.54816841e-03, -1.17186863e-02,\n",
            "        1.60673588e-02, -1.70369482e-03, -4.26571131e-03, -8.53061908e-03,\n",
            "       -1.48234636e-02, -2.20558853e-02,  1.60762352e-02, -1.55605319e-03,\n",
            "       -3.78920293e-03, -7.19928400e-03, -1.11911955e-02,  1.59667424e-02,\n",
            "       -1.40334974e-03, -2.46433668e-03, -3.13590577e-03,  1.53962733e-02,\n",
            "       -1.46517645e-03,  1.42195601e-03,  1.30915610e-02, -2.90917714e-03,\n",
            "        5.38941638e-03,  5.85908314e-02,  7.46457881e-03,  6.09412420e-03,\n",
            "        3.92003568e-03,  6.09727789e-04, -4.54816841e-03,  1.60673588e-02,\n",
            "       -1.70369482e-03, -4.26571131e-03, -8.53061908e-03, -1.48234636e-02,\n",
            "        1.60762352e-02, -1.55605319e-03, -3.78920293e-03, -7.19928400e-03,\n",
            "        1.59667424e-02, -1.40334974e-03, -2.46433668e-03,  1.53962733e-02,\n",
            "       -1.46517645e-03,  1.30915610e-02,  5.85908314e-02,  7.46457881e-03,\n",
            "        6.09412420e-03,  3.92003568e-03,  6.09727789e-04,  1.60673588e-02,\n",
            "       -1.70369482e-03, -4.26571131e-03, -8.53061908e-03,  1.60762352e-02,\n",
            "       -1.55605319e-03, -3.78920293e-03,  1.59667424e-02, -1.40334974e-03,\n",
            "        1.53962733e-02,  5.85908314e-02,  7.46457881e-03,  6.09412420e-03,\n",
            "        3.92003568e-03,  1.60673588e-02, -1.70369482e-03, -4.26571131e-03,\n",
            "        1.60762352e-02, -1.55605319e-03,  1.59667424e-02,  5.85908314e-02,\n",
            "        7.46457881e-03,  6.09412420e-03,  1.60673588e-02, -1.70369482e-03,\n",
            "        1.60762352e-02,  5.85908314e-02,  7.46457881e-03,  1.60673588e-02,\n",
            "        5.85908314e-02,  1.55741824e-03,  2.22384400e-03,  2.19820580e-04,\n",
            "       -1.63078478e-03, -1.29506567e-03,  4.02236856e-03,  1.12097157e-02,\n",
            "        1.46065620e-02,  1.50200166e-02,  4.45136392e-03, -1.92264434e-04,\n",
            "       -6.54371272e-03, -1.19080135e-02, -7.20589552e-03,  1.96912201e-02,\n",
            "        1.44622368e-02,  5.43322493e-03,  4.74885531e-04, -6.11179845e-03,\n",
            "       -1.07640115e-02, -1.09004041e-03,  1.29889846e-02,  6.39959091e-03,\n",
            "        1.39822202e-03, -4.48614815e-03, -5.36861524e-03,  9.48730036e-03,\n",
            "        6.40029088e-03,  4.15631722e-03,  5.36348305e-03,  2.44810759e-03,\n",
            "        3.96198637e-03,  1.92165184e-02, -6.57618745e-03,  2.47723506e-03,\n",
            "        1.12139388e-02,  5.60390654e-02,  6.43920811e-03,  6.62987071e-03,\n",
            "        7.75362223e-03,  1.02406253e-02,  1.09804679e-02, -3.97098989e-03,\n",
            "        1.25473412e-02, -2.82518811e-03, -3.94064775e-03, -4.65077377e-03,\n",
            "       -2.52985988e-03,  8.26252811e-03,  1.26189714e-02, -2.50289730e-03,\n",
            "       -2.89846489e-03, -1.77462042e-03,  5.19679362e-03,  1.24923555e-02,\n",
            "       -2.29276026e-03,  2.88039064e-04,  8.15299015e-03,  1.15202539e-02,\n",
            "       -2.99430224e-03,  1.03304971e-02,  7.09147134e-03, -8.41877382e-03,\n",
            "       -8.02402667e-03,  5.60390654e-02,  6.43920811e-03,  6.62987071e-03,\n",
            "        7.75362223e-03,  1.02406253e-02,  1.09804679e-02,  1.25473412e-02,\n",
            "       -2.82518811e-03, -3.94064775e-03, -4.65077377e-03, -2.52985988e-03,\n",
            "        1.26189714e-02, -2.50289730e-03, -2.89846489e-03, -1.77462042e-03,\n",
            "        1.24923555e-02, -2.29276026e-03,  2.88039064e-04,  1.15202539e-02,\n",
            "       -2.99430224e-03,  7.09147134e-03,  5.60390654e-02,  6.43920811e-03,\n",
            "        6.62987071e-03,  7.75362223e-03,  1.02406253e-02,  1.25473412e-02,\n",
            "       -2.82518811e-03, -3.94064775e-03, -4.65077377e-03,  1.26189714e-02,\n",
            "       -2.50289730e-03, -2.89846489e-03,  1.24923555e-02, -2.29276026e-03,\n",
            "        1.15202539e-02,  5.60390654e-02,  6.43920811e-03,  6.62987071e-03,\n",
            "        7.75362223e-03,  1.25473412e-02, -2.82518811e-03, -3.94064775e-03,\n",
            "        1.26189714e-02, -2.50289730e-03,  1.24923555e-02,  5.60390654e-02,\n",
            "        6.43920811e-03,  6.62987071e-03,  1.25473412e-02, -2.82518811e-03,\n",
            "        1.26189714e-02,  5.60390654e-02,  6.43920811e-03,  1.25473412e-02,\n",
            "        5.60390654e-02,  4.31376226e-04,  5.18709599e-03,  6.65045309e-04,\n",
            "       -3.33478225e-03, -3.01977898e-03,  2.11190618e-03, -1.84678809e-02,\n",
            "        1.29466513e-02,  5.42114052e-03, -3.81210185e-03, -1.50963052e-02,\n",
            "       -2.00363352e-02,  5.16561552e-03,  1.17774988e-02,  7.35549394e-03,\n",
            "       -2.83048496e-03, -1.52317886e-02, -2.00409008e-02,  8.82078817e-03,\n",
            "        8.68062557e-03, -1.20315570e-03, -1.14233185e-02,  2.60584371e-03,\n",
            "        6.88027155e-03,  7.47672685e-03, -5.83946910e-03, -3.11370328e-06,\n",
            "        4.70832352e-03,  5.12137075e-02,  4.59804300e-03,  7.18308598e-03,\n",
            "        1.26643793e-02,  1.85972511e-02,  5.15860187e-04,  6.27162513e-03,\n",
            "       -4.51357337e-03, -3.66400897e-03,  4.84334803e-04,  1.30650258e-02,\n",
            "        6.66140822e-03, -3.71835415e-03, -1.17291499e-03,  7.15555109e-03,\n",
            "        6.85841879e-03, -3.43795453e-03,  7.10227751e-03,  5.77704970e-03,\n",
            "       -6.26271871e-03, -1.79576844e-03,  5.12137075e-02,  4.59804300e-03,\n",
            "        7.18308598e-03,  1.26643793e-02,  1.85972511e-02,  6.27162513e-03,\n",
            "       -4.51357337e-03, -3.66400897e-03,  4.84334803e-04,  6.66140822e-03,\n",
            "       -3.71835415e-03, -1.17291499e-03,  6.85841879e-03, -3.43795453e-03,\n",
            "        5.77704970e-03,  5.12137075e-02,  4.59804300e-03,  7.18308598e-03,\n",
            "        1.26643793e-02,  6.27162513e-03, -4.51357337e-03, -3.66400897e-03,\n",
            "        6.66140822e-03, -3.71835415e-03,  6.85841879e-03,  5.12137075e-02,\n",
            "        4.59804300e-03,  7.18308598e-03,  6.27162513e-03, -4.51357337e-03,\n",
            "        6.66140822e-03,  5.12137075e-02,  4.59804300e-03,  6.27162513e-03,\n",
            "        5.12137075e-02, -1.66415559e-03,  1.04428295e-02,  1.30243048e-03,\n",
            "       -5.18966847e-03, -2.77423702e-03, -1.11192921e-02,  9.18985309e-03,\n",
            "        6.84218934e-03, -7.98204496e-03, -1.98219779e-02, -1.34361907e-03,\n",
            "        7.31392920e-03,  1.02372074e-02, -7.84802629e-03, -2.46332125e-02,\n",
            "        2.39196224e-03,  9.84501078e-03, -7.69071670e-03, -6.30124791e-03,\n",
            "       -2.94575556e-03, -5.56806006e-03,  4.23975140e-02,  1.54444166e-03,\n",
            "        6.73468325e-03,  1.42166453e-02,  2.59499552e-03, -3.98684950e-03,\n",
            "       -6.22653994e-03, -4.23119646e-03,  2.88080585e-03, -2.38282477e-03,\n",
            "       -4.11457367e-03,  2.11040631e-03, -4.64943344e-04, -3.82746272e-03,\n",
            "        3.17145041e-04,  4.23975140e-02,  1.54444166e-03,  6.73468325e-03,\n",
            "        1.42166453e-02, -3.98684950e-03, -6.22653994e-03, -4.23119646e-03,\n",
            "       -2.38282477e-03, -4.11457367e-03, -4.64943344e-04,  4.23975140e-02,\n",
            "        1.54444166e-03,  6.73468325e-03, -3.98684950e-03, -6.22653994e-03,\n",
            "       -2.38282477e-03,  4.23975140e-02,  1.54444166e-03, -3.98684950e-03,\n",
            "        4.23975140e-02, -5.38556258e-03,  1.89419853e-02,  1.81800797e-03,\n",
            "       -4.24011470e-03,  8.80175259e-03,  2.84605375e-03,  8.12877386e-03,\n",
            "       -7.11273602e-03,  7.86521287e-03,  1.10450906e-03,  1.31121606e-02,\n",
            "       -1.31035100e-02, -4.74298881e-03,  1.98072891e-03, -9.54796608e-03,\n",
            "        2.72686938e-02, -2.67657445e-03,  1.17337799e-03, -7.48656689e-03,\n",
            "       -1.76249262e-02, -4.66106121e-03, -8.72696655e-03, -1.18586107e-02,\n",
            "        1.19706979e-03, -3.27813378e-03,  2.72686938e-02, -2.67657445e-03,\n",
            "        1.17337799e-03, -1.76249262e-02, -4.66106121e-03, -1.18586107e-02,\n",
            "        2.72686938e-02, -2.67657445e-03, -1.76249262e-02,  2.72686938e-02,\n",
            "       -1.14194067e-02,  2.99033629e-02,  5.71584378e-04,  1.16369715e-02,\n",
            "       -6.33215345e-03,  6.03540352e-03,  2.22534674e-02, -3.16117385e-03,\n",
            "        1.01966461e-02, -1.84478844e-03,  4.52175396e-03, -5.46004690e-03,\n",
            "       -2.39427320e-02, -2.42644617e-02,  1.34441318e-02, -4.97214235e-03,\n",
            "        4.52175396e-03, -5.46004690e-03, -2.42644617e-02,  4.52175396e-03,\n",
            "       -1.92601852e-02,  3.37153163e-02, -8.75399852e-03, -1.41603934e-02,\n",
            "       -1.21509553e-02,  1.27669324e-02, -1.84400243e-02,  5.94868751e-03,\n",
            "        2.43663206e-02, -1.84400243e-02, -2.22610131e-02, -1.29931822e-02,\n",
            "        1.76764976e-03,  3.23272323e-03,  9.77951812e-03])\n",
            "495\n"
          ]
        }
      ]
    },
    {
      "cell_type": "markdown",
      "metadata": {
        "id": "7KnE0zv52eU4"
      },
      "source": [
        "# Training Accuration\n",
        "In this section we will count the accuration of the training data"
      ]
    },
    {
      "cell_type": "markdown",
      "metadata": {
        "id": "cM-Lh4qy24oP"
      },
      "source": [
        "Create predict function"
      ]
    },
    {
      "cell_type": "code",
      "metadata": {
        "id": "Dr7qQlInugHM"
      },
      "source": [
        "def predict(theta, X):\n",
        "  theta = np.transpose(np.array([theta]))\n",
        "\n",
        "  m = X.shape[0]\n",
        "  p = np.zeros((m,1))\n",
        "\n",
        "  p = sigmoid(X @ theta)\n",
        "  p = np.where(p < 0.5, 0, 1)\n",
        "  return p"
      ],
      "execution_count": 388,
      "outputs": []
    },
    {
      "cell_type": "markdown",
      "metadata": {
        "id": "b69My6Wo3mfN"
      },
      "source": [
        "Calculate the accuration"
      ]
    },
    {
      "cell_type": "code",
      "metadata": {
        "colab": {
          "base_uri": "https://localhost:8080/"
        },
        "id": "b7sW3kLL3o4c",
        "outputId": "88208f2f-e8a0-46d9-bfcb-feb0f9267b84"
      },
      "source": [
        "p = predict(Result.x, X)\n",
        "print(\"Accuracy =\", np.equal(y, p).mean() * 100)"
      ],
      "execution_count": 389,
      "outputs": [
        {
          "output_type": "stream",
          "name": "stdout",
          "text": [
            "Accuracy = 81.48148148148148\n"
          ]
        }
      ]
    },
    {
      "cell_type": "markdown",
      "metadata": {
        "id": "34hzoxzjGxvD"
      },
      "source": [
        "# Implementing to new data\n",
        "In this section we implement to the another data and predict whether person is survive or not"
      ]
    },
    {
      "cell_type": "markdown",
      "metadata": {
        "id": "StoqyzyBKhGM"
      },
      "source": [
        "Upload the test data"
      ]
    },
    {
      "cell_type": "code",
      "metadata": {
        "colab": {
          "resources": {
            "http://localhost:8080/nbextensions/google.colab/files.js": {
              "data": "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",
              "ok": true,
              "headers": [
                [
                  "content-type",
                  "application/javascript"
                ]
              ],
              "status": 200,
              "status_text": ""
            }
          },
          "base_uri": "https://localhost:8080/",
          "height": 474
        },
        "id": "bYhmvVrvKYv-",
        "outputId": "3c195fc4-cc80-4c8a-f01b-c679e33eff51"
      },
      "source": [
        "uploaded = files.upload()\n",
        "\n",
        "for fn in uploaded.keys():\n",
        "  print('User uploaded file \"{name}\" with length {length} bytes'.format(\n",
        "      name=fn, length=len(uploaded[fn])))\n",
        "\n",
        "df2 = pd.read_csv(io.BytesIO(uploaded['test.csv']))\n",
        "df2"
      ],
      "execution_count": 391,
      "outputs": [
        {
          "output_type": "display_data",
          "data": {
            "text/html": [
              "\n",
              "     <input type=\"file\" id=\"files-a39a3569-1aaf-4b97-bc8d-8f8116e35ec4\" name=\"files[]\" multiple disabled\n",
              "        style=\"border:none\" />\n",
              "     <output id=\"result-a39a3569-1aaf-4b97-bc8d-8f8116e35ec4\">\n",
              "      Upload widget is only available when the cell has been executed in the\n",
              "      current browser session. Please rerun this cell to enable.\n",
              "      </output>\n",
              "      <script src=\"/nbextensions/google.colab/files.js\"></script> "
            ],
            "text/plain": [
              "<IPython.core.display.HTML object>"
            ]
          },
          "metadata": {}
        },
        {
          "output_type": "stream",
          "name": "stdout",
          "text": [
            "Saving test.csv to test.csv\n",
            "User uploaded file \"test.csv\" with length 28629 bytes\n"
          ]
        },
        {
          "output_type": "execute_result",
          "data": {
            "text/html": [
              "<div>\n",
              "<style scoped>\n",
              "    .dataframe tbody tr th:only-of-type {\n",
              "        vertical-align: middle;\n",
              "    }\n",
              "\n",
              "    .dataframe tbody tr th {\n",
              "        vertical-align: top;\n",
              "    }\n",
              "\n",
              "    .dataframe thead th {\n",
              "        text-align: right;\n",
              "    }\n",
              "</style>\n",
              "<table border=\"1\" class=\"dataframe\">\n",
              "  <thead>\n",
              "    <tr style=\"text-align: right;\">\n",
              "      <th></th>\n",
              "      <th>PassengerId</th>\n",
              "      <th>Pclass</th>\n",
              "      <th>Name</th>\n",
              "      <th>Sex</th>\n",
              "      <th>Age</th>\n",
              "      <th>SibSp</th>\n",
              "      <th>Parch</th>\n",
              "      <th>Ticket</th>\n",
              "      <th>Fare</th>\n",
              "      <th>Cabin</th>\n",
              "      <th>Embarked</th>\n",
              "    </tr>\n",
              "  </thead>\n",
              "  <tbody>\n",
              "    <tr>\n",
              "      <th>0</th>\n",
              "      <td>892</td>\n",
              "      <td>3</td>\n",
              "      <td>Kelly, Mr. James</td>\n",
              "      <td>male</td>\n",
              "      <td>34.5</td>\n",
              "      <td>0</td>\n",
              "      <td>0</td>\n",
              "      <td>330911</td>\n",
              "      <td>7.8292</td>\n",
              "      <td>NaN</td>\n",
              "      <td>Q</td>\n",
              "    </tr>\n",
              "    <tr>\n",
              "      <th>1</th>\n",
              "      <td>893</td>\n",
              "      <td>3</td>\n",
              "      <td>Wilkes, Mrs. James (Ellen Needs)</td>\n",
              "      <td>female</td>\n",
              "      <td>47.0</td>\n",
              "      <td>1</td>\n",
              "      <td>0</td>\n",
              "      <td>363272</td>\n",
              "      <td>7.0000</td>\n",
              "      <td>NaN</td>\n",
              "      <td>S</td>\n",
              "    </tr>\n",
              "    <tr>\n",
              "      <th>2</th>\n",
              "      <td>894</td>\n",
              "      <td>2</td>\n",
              "      <td>Myles, Mr. Thomas Francis</td>\n",
              "      <td>male</td>\n",
              "      <td>62.0</td>\n",
              "      <td>0</td>\n",
              "      <td>0</td>\n",
              "      <td>240276</td>\n",
              "      <td>9.6875</td>\n",
              "      <td>NaN</td>\n",
              "      <td>Q</td>\n",
              "    </tr>\n",
              "    <tr>\n",
              "      <th>3</th>\n",
              "      <td>895</td>\n",
              "      <td>3</td>\n",
              "      <td>Wirz, Mr. Albert</td>\n",
              "      <td>male</td>\n",
              "      <td>27.0</td>\n",
              "      <td>0</td>\n",
              "      <td>0</td>\n",
              "      <td>315154</td>\n",
              "      <td>8.6625</td>\n",
              "      <td>NaN</td>\n",
              "      <td>S</td>\n",
              "    </tr>\n",
              "    <tr>\n",
              "      <th>4</th>\n",
              "      <td>896</td>\n",
              "      <td>3</td>\n",
              "      <td>Hirvonen, Mrs. Alexander (Helga E Lindqvist)</td>\n",
              "      <td>female</td>\n",
              "      <td>22.0</td>\n",
              "      <td>1</td>\n",
              "      <td>1</td>\n",
              "      <td>3101298</td>\n",
              "      <td>12.2875</td>\n",
              "      <td>NaN</td>\n",
              "      <td>S</td>\n",
              "    </tr>\n",
              "    <tr>\n",
              "      <th>...</th>\n",
              "      <td>...</td>\n",
              "      <td>...</td>\n",
              "      <td>...</td>\n",
              "      <td>...</td>\n",
              "      <td>...</td>\n",
              "      <td>...</td>\n",
              "      <td>...</td>\n",
              "      <td>...</td>\n",
              "      <td>...</td>\n",
              "      <td>...</td>\n",
              "      <td>...</td>\n",
              "    </tr>\n",
              "    <tr>\n",
              "      <th>413</th>\n",
              "      <td>1305</td>\n",
              "      <td>3</td>\n",
              "      <td>Spector, Mr. Woolf</td>\n",
              "      <td>male</td>\n",
              "      <td>NaN</td>\n",
              "      <td>0</td>\n",
              "      <td>0</td>\n",
              "      <td>A.5. 3236</td>\n",
              "      <td>8.0500</td>\n",
              "      <td>NaN</td>\n",
              "      <td>S</td>\n",
              "    </tr>\n",
              "    <tr>\n",
              "      <th>414</th>\n",
              "      <td>1306</td>\n",
              "      <td>1</td>\n",
              "      <td>Oliva y Ocana, Dona. Fermina</td>\n",
              "      <td>female</td>\n",
              "      <td>39.0</td>\n",
              "      <td>0</td>\n",
              "      <td>0</td>\n",
              "      <td>PC 17758</td>\n",
              "      <td>108.9000</td>\n",
              "      <td>C105</td>\n",
              "      <td>C</td>\n",
              "    </tr>\n",
              "    <tr>\n",
              "      <th>415</th>\n",
              "      <td>1307</td>\n",
              "      <td>3</td>\n",
              "      <td>Saether, Mr. Simon Sivertsen</td>\n",
              "      <td>male</td>\n",
              "      <td>38.5</td>\n",
              "      <td>0</td>\n",
              "      <td>0</td>\n",
              "      <td>SOTON/O.Q. 3101262</td>\n",
              "      <td>7.2500</td>\n",
              "      <td>NaN</td>\n",
              "      <td>S</td>\n",
              "    </tr>\n",
              "    <tr>\n",
              "      <th>416</th>\n",
              "      <td>1308</td>\n",
              "      <td>3</td>\n",
              "      <td>Ware, Mr. Frederick</td>\n",
              "      <td>male</td>\n",
              "      <td>NaN</td>\n",
              "      <td>0</td>\n",
              "      <td>0</td>\n",
              "      <td>359309</td>\n",
              "      <td>8.0500</td>\n",
              "      <td>NaN</td>\n",
              "      <td>S</td>\n",
              "    </tr>\n",
              "    <tr>\n",
              "      <th>417</th>\n",
              "      <td>1309</td>\n",
              "      <td>3</td>\n",
              "      <td>Peter, Master. Michael J</td>\n",
              "      <td>male</td>\n",
              "      <td>NaN</td>\n",
              "      <td>1</td>\n",
              "      <td>1</td>\n",
              "      <td>2668</td>\n",
              "      <td>22.3583</td>\n",
              "      <td>NaN</td>\n",
              "      <td>C</td>\n",
              "    </tr>\n",
              "  </tbody>\n",
              "</table>\n",
              "<p>418 rows × 11 columns</p>\n",
              "</div>"
            ],
            "text/plain": [
              "     PassengerId  Pclass  ... Cabin Embarked\n",
              "0            892       3  ...   NaN        Q\n",
              "1            893       3  ...   NaN        S\n",
              "2            894       2  ...   NaN        Q\n",
              "3            895       3  ...   NaN        S\n",
              "4            896       3  ...   NaN        S\n",
              "..           ...     ...  ...   ...      ...\n",
              "413         1305       3  ...   NaN        S\n",
              "414         1306       1  ...  C105        C\n",
              "415         1307       3  ...   NaN        S\n",
              "416         1308       3  ...   NaN        S\n",
              "417         1309       3  ...   NaN        C\n",
              "\n",
              "[418 rows x 11 columns]"
            ]
          },
          "metadata": {},
          "execution_count": 391
        }
      ]
    },
    {
      "cell_type": "markdown",
      "metadata": {
        "id": "mLQ0WRGSLDk9"
      },
      "source": [
        "Check the data if any Nan"
      ]
    },
    {
      "cell_type": "code",
      "metadata": {
        "colab": {
          "base_uri": "https://localhost:8080/"
        },
        "id": "qtx9qwkdLJH9",
        "outputId": "904265dc-0a49-4f02-f86c-c46f9be8df8a"
      },
      "source": [
        "pclass = df2['Pclass'].isnull().values.any()\n",
        "print(\"Pclass is Nan = \", pclass)\n",
        "sex = df2['Sex'].isnull().values.any()\n",
        "print(\"Sex is Nan = \", sex)\n",
        "sibsp = df2['SibSp'].isnull().values.any()\n",
        "print(\"SibSp is Nan = \", sibsp)\n",
        "parch = df2['Parch'].isnull().values.any()\n",
        "print(\"Parch is Nan = \", parch)"
      ],
      "execution_count": 393,
      "outputs": [
        {
          "output_type": "stream",
          "name": "stdout",
          "text": [
            "Pclass is Nan =  False\n",
            "Sex is Nan =  False\n",
            "SibSp is Nan =  False\n",
            "Parch is Nan =  False\n"
          ]
        }
      ]
    },
    {
      "cell_type": "markdown",
      "metadata": {
        "id": "2JeyawlLLY4Y"
      },
      "source": [
        "Create matrix X"
      ]
    },
    {
      "cell_type": "code",
      "metadata": {
        "id": "W4-ItsfDLc1q"
      },
      "source": [
        "pclass = df2['Pclass'].values\n",
        "pclass = np.transpose([pclass])\n",
        "\n",
        "sex = df2['Sex'].values\n",
        "sex = np.transpose([np.where(sex == 'male', 0, 1)])\n",
        "\n",
        "sibsp = df2['SibSp'].values\n",
        "sibsp = np.transpose([sibsp])\n",
        "\n",
        "parch = df2['Parch'].values\n",
        "parch = np.transpose([parch])\n",
        "\n",
        "X = np.hstack((pclass, sex))\n",
        "X = np.hstack((X, sibsp))\n",
        "X = np.hstack((X, parch))"
      ],
      "execution_count": 395,
      "outputs": []
    },
    {
      "cell_type": "markdown",
      "metadata": {
        "id": "Hvq2-ZZVLyLq"
      },
      "source": [
        "Create Matrix X with powered by 8 (e.g. x1^8, x1^7x2x3x4, x1^6x2^2x3x4,...)\n",
        "Matrix X size will be 418 x 495"
      ]
    },
    {
      "cell_type": "code",
      "metadata": {
        "colab": {
          "base_uri": "https://localhost:8080/"
        },
        "id": "qHvzyxisL4lB",
        "outputId": "165b224d-a693-41ac-83a3-738b7429a87d"
      },
      "source": [
        "def mapFeature(X, degree):\n",
        "  finalX = np.ones((X.shape[0],1),dtype='int')\n",
        "\n",
        "  for i in range(degree+1):\n",
        "    for j in range(degree+1):\n",
        "      for k in range(degree+1):\n",
        "        for l in range(degree+1):\n",
        "          if(i+j+k+l != 0 and i+j+k+l <= degree):\n",
        "            temp = np.transpose([np.power(X[:,0],i)*np.power(X[:,1],j)*np.power(X[:,2],k)*np.power(X[:,3],l)])\n",
        "            finalX = np.hstack((finalX, temp))\n",
        "  \n",
        "  return finalX\n",
        "\n",
        "X = mapFeature(X, 8)\n",
        "X.shape"
      ],
      "execution_count": 396,
      "outputs": [
        {
          "output_type": "execute_result",
          "data": {
            "text/plain": [
              "(418, 495)"
            ]
          },
          "metadata": {},
          "execution_count": 396
        }
      ]
    },
    {
      "cell_type": "markdown",
      "metadata": {
        "id": "ypY6gqYKMORO"
      },
      "source": [
        "Calculate the prediction"
      ]
    },
    {
      "cell_type": "code",
      "metadata": {
        "colab": {
          "base_uri": "https://localhost:8080/"
        },
        "id": "EESWqCXqMUDQ",
        "outputId": "65c428c0-25a7-4755-ddf5-0a0dbc059bb3"
      },
      "source": [
        "p = predict(Result.x, X)"
      ],
      "execution_count": 397,
      "outputs": [
        {
          "output_type": "stream",
          "name": "stdout",
          "text": [
            "[[0]\n",
            " [1]\n",
            " [0]\n",
            " [0]\n",
            " [0]\n",
            " [0]\n",
            " [1]\n",
            " [0]\n",
            " [1]\n",
            " [0]\n",
            " [0]\n",
            " [0]\n",
            " [1]\n",
            " [0]\n",
            " [1]\n",
            " [1]\n",
            " [0]\n",
            " [0]\n",
            " [1]\n",
            " [1]\n",
            " [0]\n",
            " [0]\n",
            " [1]\n",
            " [0]\n",
            " [0]\n",
            " [0]\n",
            " [1]\n",
            " [0]\n",
            " [0]\n",
            " [0]\n",
            " [0]\n",
            " [0]\n",
            " [0]\n",
            " [0]\n",
            " [0]\n",
            " [0]\n",
            " [1]\n",
            " [1]\n",
            " [0]\n",
            " [0]\n",
            " [0]\n",
            " [0]\n",
            " [0]\n",
            " [1]\n",
            " [1]\n",
            " [0]\n",
            " [0]\n",
            " [0]\n",
            " [1]\n",
            " [1]\n",
            " [0]\n",
            " [0]\n",
            " [1]\n",
            " [1]\n",
            " [0]\n",
            " [0]\n",
            " [0]\n",
            " [0]\n",
            " [0]\n",
            " [1]\n",
            " [0]\n",
            " [0]\n",
            " [0]\n",
            " [1]\n",
            " [1]\n",
            " [1]\n",
            " [1]\n",
            " [0]\n",
            " [0]\n",
            " [0]\n",
            " [1]\n",
            " [0]\n",
            " [1]\n",
            " [0]\n",
            " [1]\n",
            " [0]\n",
            " [0]\n",
            " [1]\n",
            " [0]\n",
            " [1]\n",
            " [0]\n",
            " [0]\n",
            " [0]\n",
            " [0]\n",
            " [0]\n",
            " [0]\n",
            " [1]\n",
            " [1]\n",
            " [1]\n",
            " [0]\n",
            " [1]\n",
            " [0]\n",
            " [1]\n",
            " [0]\n",
            " [0]\n",
            " [0]\n",
            " [1]\n",
            " [0]\n",
            " [1]\n",
            " [0]\n",
            " [1]\n",
            " [0]\n",
            " [0]\n",
            " [0]\n",
            " [0]\n",
            " [0]\n",
            " [0]\n",
            " [0]\n",
            " [0]\n",
            " [0]\n",
            " [0]\n",
            " [1]\n",
            " [1]\n",
            " [1]\n",
            " [1]\n",
            " [0]\n",
            " [0]\n",
            " [0]\n",
            " [0]\n",
            " [1]\n",
            " [1]\n",
            " [0]\n",
            " [1]\n",
            " [0]\n",
            " [0]\n",
            " [1]\n",
            " [0]\n",
            " [1]\n",
            " [0]\n",
            " [0]\n",
            " [0]\n",
            " [0]\n",
            " [0]\n",
            " [0]\n",
            " [0]\n",
            " [0]\n",
            " [0]\n",
            " [0]\n",
            " [1]\n",
            " [0]\n",
            " [0]\n",
            " [1]\n",
            " [1]\n",
            " [0]\n",
            " [0]\n",
            " [0]\n",
            " [0]\n",
            " [0]\n",
            " [0]\n",
            " [0]\n",
            " [1]\n",
            " [0]\n",
            " [0]\n",
            " [1]\n",
            " [0]\n",
            " [0]\n",
            " [1]\n",
            " [1]\n",
            " [0]\n",
            " [1]\n",
            " [1]\n",
            " [0]\n",
            " [1]\n",
            " [0]\n",
            " [0]\n",
            " [0]\n",
            " [0]\n",
            " [0]\n",
            " [1]\n",
            " [1]\n",
            " [0]\n",
            " [0]\n",
            " [0]\n",
            " [0]\n",
            " [0]\n",
            " [1]\n",
            " [1]\n",
            " [0]\n",
            " [1]\n",
            " [1]\n",
            " [0]\n",
            " [1]\n",
            " [1]\n",
            " [0]\n",
            " [1]\n",
            " [0]\n",
            " [1]\n",
            " [0]\n",
            " [0]\n",
            " [0]\n",
            " [0]\n",
            " [0]\n",
            " [0]\n",
            " [0]\n",
            " [1]\n",
            " [0]\n",
            " [1]\n",
            " [1]\n",
            " [0]\n",
            " [1]\n",
            " [1]\n",
            " [1]\n",
            " [0]\n",
            " [1]\n",
            " [0]\n",
            " [0]\n",
            " [1]\n",
            " [0]\n",
            " [1]\n",
            " [0]\n",
            " [0]\n",
            " [0]\n",
            " [0]\n",
            " [1]\n",
            " [0]\n",
            " [0]\n",
            " [1]\n",
            " [1]\n",
            " [1]\n",
            " [0]\n",
            " [1]\n",
            " [0]\n",
            " [1]\n",
            " [0]\n",
            " [1]\n",
            " [1]\n",
            " [0]\n",
            " [1]\n",
            " [0]\n",
            " [0]\n",
            " [0]\n",
            " [1]\n",
            " [0]\n",
            " [0]\n",
            " [0]\n",
            " [0]\n",
            " [0]\n",
            " [0]\n",
            " [1]\n",
            " [1]\n",
            " [1]\n",
            " [1]\n",
            " [1]\n",
            " [0]\n",
            " [0]\n",
            " [0]\n",
            " [1]\n",
            " [0]\n",
            " [1]\n",
            " [1]\n",
            " [1]\n",
            " [0]\n",
            " [0]\n",
            " [0]\n",
            " [0]\n",
            " [0]\n",
            " [0]\n",
            " [0]\n",
            " [1]\n",
            " [0]\n",
            " [0]\n",
            " [0]\n",
            " [1]\n",
            " [0]\n",
            " [0]\n",
            " [0]\n",
            " [0]\n",
            " [0]\n",
            " [1]\n",
            " [0]\n",
            " [0]\n",
            " [0]\n",
            " [1]\n",
            " [1]\n",
            " [0]\n",
            " [1]\n",
            " [0]\n",
            " [0]\n",
            " [0]\n",
            " [0]\n",
            " [1]\n",
            " [0]\n",
            " [1]\n",
            " [0]\n",
            " [0]\n",
            " [0]\n",
            " [0]\n",
            " [0]\n",
            " [0]\n",
            " [0]\n",
            " [0]\n",
            " [1]\n",
            " [0]\n",
            " [1]\n",
            " [0]\n",
            " [0]\n",
            " [1]\n",
            " [0]\n",
            " [0]\n",
            " [0]\n",
            " [0]\n",
            " [0]\n",
            " [0]\n",
            " [0]\n",
            " [1]\n",
            " [1]\n",
            " [1]\n",
            " [0]\n",
            " [1]\n",
            " [1]\n",
            " [0]\n",
            " [0]\n",
            " [0]\n",
            " [1]\n",
            " [1]\n",
            " [1]\n",
            " [0]\n",
            " [0]\n",
            " [0]\n",
            " [0]\n",
            " [0]\n",
            " [0]\n",
            " [0]\n",
            " [0]\n",
            " [1]\n",
            " [0]\n",
            " [1]\n",
            " [0]\n",
            " [0]\n",
            " [0]\n",
            " [1]\n",
            " [0]\n",
            " [0]\n",
            " [0]\n",
            " [0]\n",
            " [0]\n",
            " [0]\n",
            " [1]\n",
            " [0]\n",
            " [0]\n",
            " [0]\n",
            " [0]\n",
            " [0]\n",
            " [1]\n",
            " [0]\n",
            " [1]\n",
            " [0]\n",
            " [1]\n",
            " [0]\n",
            " [1]\n",
            " [1]\n",
            " [0]\n",
            " [0]\n",
            " [0]\n",
            " [0]\n",
            " [0]\n",
            " [1]\n",
            " [0]\n",
            " [0]\n",
            " [1]\n",
            " [0]\n",
            " [1]\n",
            " [1]\n",
            " [0]\n",
            " [1]\n",
            " [0]\n",
            " [0]\n",
            " [1]\n",
            " [1]\n",
            " [0]\n",
            " [0]\n",
            " [1]\n",
            " [0]\n",
            " [0]\n",
            " [1]\n",
            " [1]\n",
            " [1]\n",
            " [0]\n",
            " [0]\n",
            " [0]\n",
            " [0]\n",
            " [0]\n",
            " [1]\n",
            " [1]\n",
            " [0]\n",
            " [1]\n",
            " [0]\n",
            " [0]\n",
            " [0]\n",
            " [0]\n",
            " [0]\n",
            " [1]\n",
            " [1]\n",
            " [0]\n",
            " [0]\n",
            " [1]\n",
            " [0]\n",
            " [1]\n",
            " [0]\n",
            " [0]\n",
            " [1]\n",
            " [0]\n",
            " [1]\n",
            " [0]\n",
            " [0]\n",
            " [0]\n",
            " [0]\n",
            " [1]\n",
            " [1]\n",
            " [0]\n",
            " [1]\n",
            " [1]\n",
            " [1]\n",
            " [0]\n",
            " [1]\n",
            " [0]\n",
            " [0]\n",
            " [0]]\n"
          ]
        },
        {
          "output_type": "stream",
          "name": "stderr",
          "text": [
            "/usr/local/lib/python3.7/dist-packages/ipykernel_launcher.py:3: RuntimeWarning: overflow encountered in exp\n",
            "  This is separate from the ipykernel package so we can avoid doing imports until\n"
          ]
        }
      ]
    },
    {
      "cell_type": "markdown",
      "metadata": {
        "id": "IBlRkSwAMl5u"
      },
      "source": [
        "# Export to CSV"
      ]
    },
    {
      "cell_type": "code",
      "metadata": {
        "colab": {
          "base_uri": "https://localhost:8080/",
          "height": 17
        },
        "id": "bojBUUeBMtIM",
        "outputId": "c5c15db0-0ce9-423f-e232-565c2f2167b9"
      },
      "source": [
        "d = {'PassengerId': df2['PassengerId'].values, 'Survived': np.transpose(p).flatten()}\n",
        "df3 = pd.DataFrame(data=d)\n",
        "df3\n",
        "\n",
        "csv = df3.to_csv(index=False)\n",
        "\n",
        "from google.colab import files\n",
        "\n",
        "with open('result.csv', 'w') as f:\n",
        "  f.write(csv)\n",
        "\n",
        "files.download('result.csv')"
      ],
      "execution_count": 404,
      "outputs": [
        {
          "output_type": "display_data",
          "data": {
            "application/javascript": [
              "\n",
              "    async function download(id, filename, size) {\n",
              "      if (!google.colab.kernel.accessAllowed) {\n",
              "        return;\n",
              "      }\n",
              "      const div = document.createElement('div');\n",
              "      const label = document.createElement('label');\n",
              "      label.textContent = `Downloading \"${filename}\": `;\n",
              "      div.appendChild(label);\n",
              "      const progress = document.createElement('progress');\n",
              "      progress.max = size;\n",
              "      div.appendChild(progress);\n",
              "      document.body.appendChild(div);\n",
              "\n",
              "      const buffers = [];\n",
              "      let downloaded = 0;\n",
              "\n",
              "      const channel = await google.colab.kernel.comms.open(id);\n",
              "      // Send a message to notify the kernel that we're ready.\n",
              "      channel.send({})\n",
              "\n",
              "      for await (const message of channel.messages) {\n",
              "        // Send a message to notify the kernel that we're ready.\n",
              "        channel.send({})\n",
              "        if (message.buffers) {\n",
              "          for (const buffer of message.buffers) {\n",
              "            buffers.push(buffer);\n",
              "            downloaded += buffer.byteLength;\n",
              "            progress.value = downloaded;\n",
              "          }\n",
              "        }\n",
              "      }\n",
              "      const blob = new Blob(buffers, {type: 'application/binary'});\n",
              "      const a = document.createElement('a');\n",
              "      a.href = window.URL.createObjectURL(blob);\n",
              "      a.download = filename;\n",
              "      div.appendChild(a);\n",
              "      a.click();\n",
              "      div.remove();\n",
              "    }\n",
              "  "
            ],
            "text/plain": [
              "<IPython.core.display.Javascript object>"
            ]
          },
          "metadata": {}
        },
        {
          "output_type": "display_data",
          "data": {
            "application/javascript": [
              "download(\"download_e522756a-e807-489e-abd4-88f83cd9371e\", \"result.csv\", 2839)"
            ],
            "text/plain": [
              "<IPython.core.display.Javascript object>"
            ]
          },
          "metadata": {}
        }
      ]
    }
  ]
}